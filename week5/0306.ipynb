{
  "nbformat": 4,
  "nbformat_minor": 0,
  "metadata": {
    "colab": {
      "provenance": []
    },
    "kernelspec": {
      "name": "python3",
      "display_name": "Python 3"
    },
    "language_info": {
      "name": "python"
    }
  },
  "cells": [
    {
      "cell_type": "code",
      "execution_count": 1,
      "metadata": {
        "colab": {
          "base_uri": "https://localhost:8080/"
        },
        "id": "3MNpIsiZD3p-",
        "outputId": "e4f2c2fa-6dcf-4c78-9d5b-95c750e09f71"
      },
      "outputs": [
        {
          "output_type": "stream",
          "name": "stdout",
          "text": [
            "要取多少數\n",
            "5\n",
            "答案為: 98765\n"
          ]
        }
      ],
      "source": [
        "\"\"\"\n",
        "\n",
        "練習一 123456789取n個數\n",
        "\n",
        "\"\"\"\n",
        "import math\n",
        "\n",
        "numb=123456789\n",
        "\n",
        "print(\"要取多少數\")\n",
        "\n",
        "n=int(input())\n",
        "\n",
        "\n",
        "print(\"答案為:\",math.floor(numb/(10**(9-n))) * 8 + n )#取10的9-n次方\n",
        "\n",
        "\n",
        "\n",
        "\n",
        "\n"
      ]
    },
    {
      "cell_type": "code",
      "source": [
        "\"\"\"\n",
        "\n",
        "練習二 比較哪裡買書較便宜（台灣or美國）\n",
        "\n",
        "\"\"\"\n",
        "\n",
        "x,y,z= 27.68,29.15,35.61 #美金\n",
        "\n",
        "a,b,c=1400,2275,1750 #台幣\n",
        "\n",
        "total_a = int((x+y+z+15) * 30) \n",
        "\n",
        "total_t = int(a+b+c)\n",
        "\n",
        "print(\"美國買書價錢為 ：\",total_a,\" NT$ \")\n",
        "\n",
        "print(\"台灣買書價錢為 ：\",total_t,\" NT$ \")\n",
        "\n",
        "if total_a > total_t :\n",
        "  \n",
        "  print(\"哪裡買書較便宜：台灣\")\n",
        "\n",
        "else : \n",
        "\n",
        "  print(\"哪裡買書較便宜：美國\")\n",
        "\n",
        "print(\"兩者價差為 ：\",abs(total_a-total_t),\" NT$ \")\n",
        "\n"
      ],
      "metadata": {
        "colab": {
          "base_uri": "https://localhost:8080/"
        },
        "id": "nk-oC45vLFmX",
        "outputId": "d214a985-1a76-4107-c62b-6c8ce22a3a1e"
      },
      "execution_count": 5,
      "outputs": [
        {
          "output_type": "stream",
          "name": "stdout",
          "text": [
            "美國買書價錢為 ： 3223  NT$ \n",
            "台灣買書價錢為 ： 5425  NT$ \n",
            "哪裡買書較便宜：美國\n",
            "兩者價差為 ： 2202  NT$ \n"
          ]
        }
      ]
    },
    {
      "cell_type": "code",
      "source": [
        "\"\"\"\n",
        "\n",
        "練習三 溫度轉換(攝氏轉華氏)\n",
        "\n",
        "\"\"\"\n",
        "t = input(\"請輸入攝氏溫度 :\")\n",
        "\n",
        "\n",
        "print(\"華氏溫度為 ：\",round( ( int(t) * 9 ) / 5 + 32 ,1) ,\" F \")\n",
        "\n",
        "\n",
        "\n"
      ],
      "metadata": {
        "colab": {
          "base_uri": "https://localhost:8080/"
        },
        "id": "oLYWQap8LFyh",
        "outputId": "cce8e3ba-7ef4-49cb-83ee-acdbda539a9d"
      },
      "execution_count": 12,
      "outputs": [
        {
          "output_type": "stream",
          "name": "stdout",
          "text": [
            "請輸入攝氏溫度 :30\n",
            "華氏溫度為 ： 86.0  F \n"
          ]
        }
      ]
    },
    {
      "cell_type": "code",
      "source": [
        "\"\"\"\n",
        "\n",
        "練習四 求圓面積與周長\n",
        "\n",
        "\"\"\"\n",
        "import math\n",
        "\n",
        "r = input(\"半徑長度為：\")\n",
        "\n",
        "A = (int(r) ** 2) * math.pi #圓面積\n",
        "\n",
        "L = int(r) * 2 * math.pi #圓周長\n",
        "\n",
        "print(\"圓面積為 ： \",round(A,2))\n",
        "\n",
        "print(\"圓周長為 ： \",round(L,2))\n"
      ],
      "metadata": {
        "colab": {
          "base_uri": "https://localhost:8080/"
        },
        "id": "NE4dhkNyMRwn",
        "outputId": "791553b9-13f5-4d2c-cfc2-d97eb64d4c7d"
      },
      "execution_count": 21,
      "outputs": [
        {
          "output_type": "stream",
          "name": "stdout",
          "text": [
            "半徑長度為：3\n",
            "圓面積為 ：  28.27\n",
            "圓周長為 ：  18.85\n"
          ]
        }
      ]
    }
  ]
}