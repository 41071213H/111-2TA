{
 "cells": [
  {
   "cell_type": "code",
   "execution_count": 10,
   "id": "ea019cbe",
   "metadata": {},
   "outputs": [],
   "source": [
    "import pandas as pd\n",
    "df = pd.read_csv(\"hellopython2.csv\")"
   ]
  },
  {
   "cell_type": "code",
   "execution_count": 4,
   "id": "f9618034",
   "metadata": {},
   "outputs": [
    {
     "name": "stdout",
     "output_type": "stream",
     "text": [
      "0     False\n",
      "1     False\n",
      "2     False\n",
      "3     False\n",
      "4     False\n",
      "5     False\n",
      "6     False\n",
      "7     False\n",
      "8     False\n",
      "9     False\n",
      "10    False\n",
      "11    False\n",
      "12    False\n",
      "13    False\n",
      "14    False\n",
      "15    False\n",
      "dtype: bool\n"
     ]
    }
   ],
   "source": [
    "print(df.duplicated())"
   ]
  },
  {
   "cell_type": "code",
   "execution_count": 5,
   "id": "0491b6be",
   "metadata": {},
   "outputs": [
    {
     "name": "stdout",
     "output_type": "stream",
     "text": [
      "A    1\n",
      "B    4\n",
      "Name: a, dtype: int64\n",
      "a    1\n",
      "b    2\n",
      "c    3\n",
      "Name: A, dtype: int64\n"
     ]
    }
   ],
   "source": [
    "df = pd.DataFrame({'A': [1, 2, 3], 'B': [4, 5, 6]}, index=['a', 'b', 'c'])\n",
    "print(df.loc['a'])  # 獲取'a'行\n",
    "print(df.loc[:, 'A'])  # 獲取'A'列\n"
   ]
  },
  {
   "cell_type": "code",
   "execution_count": 6,
   "id": "c54b6b12",
   "metadata": {},
   "outputs": [
    {
     "name": "stdout",
     "output_type": "stream",
     "text": [
      "A    1\n",
      "B    4\n",
      "Name: a, dtype: int64\n",
      "a    1\n",
      "b    2\n",
      "c    3\n",
      "Name: A, dtype: int64\n"
     ]
    }
   ],
   "source": [
    "import pandas as pd\n",
    "\n",
    "df = pd.DataFrame({'A': [1, 2, 3], 'B': [4, 5, 6]}, index=['a', 'b', 'c'])\n",
    "print(df.iloc[0])  # 獲取第一行\n",
    "print(df.iloc[:, 0])  # 獲取第一列\n"
   ]
  },
  {
   "cell_type": "code",
   "execution_count": 9,
   "id": "4218b3af",
   "metadata": {},
   "outputs": [
    {
     "name": "stdout",
     "output_type": "stream",
     "text": [
      "   A  B  C\n",
      "一  1  4  7\n",
      "二  2  5  8\n",
      "三  3  6  9\n",
      "   A  B  C\n",
      "一  1  4  7\n",
      "三  3  6  9\n",
      "   A  C\n",
      "一  1  7\n",
      "二  2  8\n",
      "三  3  9\n",
      "   A  C\n",
      "一  1  7\n",
      "三  3  9\n"
     ]
    }
   ],
   "source": [
    "import pandas as pd\n",
    "\n",
    "df = pd.DataFrame({'A': [1, 2, 3], 'B': [4, 5, 6], 'C': [7, 8, 9]}, index=['一', '二', '三'])\n",
    "print(df)\n",
    "# 獲取多行\n",
    "print(df.iloc[[0, 2]])\n",
    "\n",
    "# 獲取多列\n",
    "print(df.iloc[:, [0, 2]])\n",
    "\n",
    "# 同時獲取多行和多列\n",
    "print(df.iloc[[0, 2], [0, 2]])\n"
   ]
  },
  {
   "cell_type": "code",
   "execution_count": 20,
   "id": "892d9841",
   "metadata": {},
   "outputs": [
    {
     "name": "stdout",
     "output_type": "stream",
     "text": [
      "   NO gender  yearsold  prefer   cm  wt size\n",
      "6   7   male      18.0  adidas  168  70    L\n"
     ]
    }
   ],
   "source": [
    "df = pd.read_csv('hellopython2.csv')\n",
    "print(df[(df['prefer']=='adidas')&(df['size']=='L')&(df['cm']<=170)])"
   ]
  },
  {
   "cell_type": "code",
   "execution_count": 22,
   "id": "95f8d836",
   "metadata": {},
   "outputs": [
    {
     "name": "stdout",
     "output_type": "stream",
     "text": [
      "Collecting squarify\n",
      "  Downloading squarify-0.4.3-py3-none-any.whl (4.3 kB)\n",
      "Installing collected packages: squarify\n",
      "Successfully installed squarify-0.4.3\n",
      "Note: you may need to restart the kernel to use updated packages.\n"
     ]
    }
   ],
   "source": [
    "pip install squarify"
   ]
  },
  {
   "cell_type": "code",
   "execution_count": 24,
   "id": "28999805",
   "metadata": {},
   "outputs": [],
   "source": [
    "%matplotlib inline #之後就不用在打plt.show()\n",
    "import numpy as np \n",
    "import pandas as pd\n",
    "import matplotlib.pyplot as plt \n",
    "import seaborn as sns\n",
    "import plotly.offline\n",
    "import plotly.express as px\n",
    "import plotly.graph_objects as go\n",
    "import plotly.subplots\n",
    "import squarify\n",
    "\n",
    "plt.rcParams [\"font.sans-serif\"]='Microsoft JhengHei'"
   ]
  },
  {
   "cell_type": "code",
   "execution_count": 33,
   "id": "0aad53fe",
   "metadata": {},
   "outputs": [
    {
     "name": "stderr",
     "output_type": "stream",
     "text": [
      "/Users/angellu/opt/anaconda3/lib/python3.9/site-packages/seaborn/distributions.py:2619: FutureWarning:\n",
      "\n",
      "`distplot` is a deprecated function and will be removed in a future version. Please adapt your code to use either `displot` (a figure-level function with similar flexibility) or `histplot` (an axes-level function for histograms).\n",
      "\n"
     ]
    },
    {
     "data": {
      "text/plain": [
       "<AxesSubplot:xlabel='total_bill'>"
      ]
     },
     "execution_count": 33,
     "metadata": {},
     "output_type": "execute_result"
    },
    {
     "data": {
      "image/png": "[encoded data removed]",
      "text/plain": [
       "<Figure size 432x288 with 1 Axes>"
      ]
     },
     "metadata": {
      "needs_background": "light"
     },
     "output_type": "display_data"
    }
   ],
   "source": [
    "tips = sns.load_dataset('tips')\n",
    "sns.distplot(tips['total_bill'],kde=False)"
   ]
  },
  {
   "cell_type": "code",
   "execution_count": 34,
   "id": "bc669261",
   "metadata": {},
   "outputs": [
    {
     "data": {
      "text/plain": [
       "<AxesSubplot:ylabel='total_bill'>"
      ]
     },
     "execution_count": 34,
     "metadata": {},
     "output_type": "execute_result"
    },
    {
     "data": {
      "image/png": "[encoded data removed]",
      "text/plain": [
       "<Figure size 432x288 with 1 Axes>"
      ]
     },
     "metadata": {
      "needs_background": "light"
     },
     "output_type": "display_data"
    }
   ],
   "source": [
    "sns.distplot(tips['total_bill'],vertical=True,kde=False)"
   ]
  },
  {
   "cell_type": "code",
   "execution_count": null,
   "id": "078d91af",
   "metadata": {},
   "outputs": [],
   "source": []
  }
 ],
 "metadata": {
  "kernelspec": {
   "display_name": "Python 3 (ipykernel)",
   "language": "python",
   "name": "python3"
  },
  "language_info": {
   "codemirror_mode": {
    "name": "ipython",
    "version": 3
   },
   "file_extension": ".py",
   "mimetype": "text/x-python",
   "name": "python",
   "nbconvert_exporter": "python",
   "pygments_lexer": "ipython3",
   "version": "3.9.12"
  }
 },
 "nbformat": 4,
 "nbformat_minor": 5
}
