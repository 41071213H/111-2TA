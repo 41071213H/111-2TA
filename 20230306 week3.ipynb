{
 "cells": [
  {
   "cell_type": "code",
   "execution_count": 16,
   "id": "0b9729be",
   "metadata": {},
   "outputs": [
    {
     "name": "stdout",
     "output_type": "stream",
     "text": [
      "請輸入圓半徑3\n",
      "圓周長 18.85\n",
      "圓面積 28.27\n"
     ]
    }
   ],
   "source": [
    "import math\n",
    "a = int(input(\"請輸入圓半徑\"))\n",
    "l = round(2*math.pi*a,2)\n",
    "area = round(math.pow(a,2)*math.pi,2)\n",
    "print(\"圓周長\",l)\n",
    "print(\"圓面積\",area)"
   ]
  },
  {
   "cell_type": "code",
   "execution_count": 19,
   "id": "6433a599",
   "metadata": {},
   "outputs": [
    {
     "name": "stdout",
     "output_type": "stream",
     "text": [
      "456789\n",
      "3654318\n"
     ]
    }
   ],
   "source": [
    "a =int(input())\n",
    "b = a*8+len(str(a))\n",
    "print(b)"
   ]
  },
  {
   "cell_type": "code",
   "execution_count": 32,
   "id": "69cce550",
   "metadata": {},
   "outputs": [
    {
     "name": "stdout",
     "output_type": "stream",
     "text": [
      "1-96\n",
      "123456\n",
      "987654\n"
     ]
    }
   ],
   "source": [
    "x = 123456789\n",
    "a =int(input('1-9'))\n",
    "c =9-a\n",
    "aa = math.floor(x/math.pow(10,c))\n",
    "print(aa)\n",
    "b = aa*8+a\n",
    "print(b)"
   ]
  },
  {
   "cell_type": "code",
   "execution_count": null,
   "id": "9f2b0144",
   "metadata": {},
   "outputs": [],
   "source": []
  }
 ],
 "metadata": {
  "kernelspec": {
   "display_name": "Python 3 (ipykernel)",
   "language": "python",
   "name": "python3"
  },
  "language_info": {
   "codemirror_mode": {
    "name": "ipython",
    "version": 3
   },
   "file_extension": ".py",
   "mimetype": "text/x-python",
   "name": "python",
   "nbconvert_exporter": "python",
   "pygments_lexer": "ipython3",
   "version": "3.9.12"
  }
 },
 "nbformat": 4,
 "nbformat_minor": 5
}
