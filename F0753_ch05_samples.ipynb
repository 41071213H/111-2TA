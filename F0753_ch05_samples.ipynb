{
 "cells": [
  {
   "cell_type": "markdown",
   "metadata": {},
   "source": [
    "# F0753 範例程式 - 第 5 章 數值、字串與簡易統計計算"
   ]
  },
  {
   "cell_type": "markdown",
   "metadata": {},
   "source": [
    "## 5-0 Python 數值處理"
   ]
  },
  {
   "cell_type": "markdown",
   "metadata": {},
   "source": [
    "### *將其他資料轉為整數：int()*"
   ]
  },
  {
   "cell_type": "code",
   "execution_count": null,
   "metadata": {},
   "outputs": [],
   "source": [
    "# 需使用者輸入資料的範例\n",
    "# 有問題的寫法\n",
    "\n",
    "print('請輸入兩個數字:')\n",
    "\n",
    "x = input()\n",
    "y = input()\n",
    "result = x + y\n",
    "\n",
    "print('結果:', result)"
   ]
  },
  {
   "cell_type": "code",
   "execution_count": null,
   "metadata": {},
   "outputs": [],
   "source": [
    "# 需使用者輸入資料的範例\n",
    "\n",
    "print('請輸入兩個數字:')\n",
    "\n",
    "x = input()\n",
    "y = input()\n",
    "result = int(x) + int(y)\n",
    "\n",
    "print('結果:', result)"
   ]
  },
  {
   "cell_type": "markdown",
   "metadata": {},
   "source": [
    "### *將其他資料轉為浮點數：float()*"
   ]
  },
  {
   "cell_type": "code",
   "execution_count": null,
   "metadata": {},
   "outputs": [],
   "source": [
    "float('3.14159')"
   ]
  },
  {
   "cell_type": "code",
   "execution_count": null,
   "metadata": {},
   "outputs": [],
   "source": [
    "float(3)"
   ]
  },
  {
   "cell_type": "markdown",
   "metadata": {},
   "source": [
    "### *把浮點數四捨五入：round()*"
   ]
  },
  {
   "cell_type": "code",
   "execution_count": null,
   "metadata": {},
   "outputs": [],
   "source": [
    "n = 20 / 3\n",
    "\n",
    "print(n)\n",
    "print(int(n))\n",
    "print(round(n))\n",
    "print(round(n, 3))"
   ]
  },
  {
   "cell_type": "markdown",
   "metadata": {},
   "source": [
    "### *絕對值：abs()*"
   ]
  },
  {
   "cell_type": "code",
   "execution_count": null,
   "metadata": {},
   "outputs": [],
   "source": [
    "a = 7\n",
    "b = 11\n",
    "\n",
    "print(a - b)\n",
    "print(abs(a - b))\n",
    "print(abs(b - a))"
   ]
  },
  {
   "cell_type": "markdown",
   "metadata": {},
   "source": [
    "## 5-1 math 模組"
   ]
  },
  {
   "cell_type": "code",
   "execution_count": null,
   "metadata": {},
   "outputs": [],
   "source": [
    "import math\n",
    "\n",
    "print(math.pi)\n",
    "print(math.pow(2, 3))\n",
    "print(math.sqrt(2))\n",
    "print(math.log10(2))\n",
    "print(math.ceil(3.14))\n",
    "print(math.floor(3.14))\n",
    "print(math.gcd(120, 72))\n",
    "print(math.factorial(5))"
   ]
  },
  {
   "cell_type": "markdown",
   "metadata": {},
   "source": [
    "## 5-2 簡易統計量數計算"
   ]
  },
  {
   "cell_type": "markdown",
   "metadata": {},
   "source": [
    "### *平均數*"
   ]
  },
  {
   "cell_type": "code",
   "execution_count": null,
   "metadata": {},
   "outputs": [],
   "source": [
    "salary = [71883, 76693, 80957, 77526, 75134, 82753, \n",
    "          92819, 88639, 87058, 84874, 120730, 103184]\n",
    "\n",
    "print(sum(salary) / len(salary))"
   ]
  },
  {
   "cell_type": "code",
   "execution_count": null,
   "metadata": {},
   "outputs": [],
   "source": [
    "import statistics as st\n",
    "print(st.mean(salary))"
   ]
  },
  {
   "cell_type": "markdown",
   "metadata": {},
   "source": [
    "### *中位數*"
   ]
  },
  {
   "cell_type": "code",
   "execution_count": null,
   "metadata": {},
   "outputs": [],
   "source": [
    "salary = [71883, 76693, 80957, 77526, 75134, 82753, \n",
    "          92819, 88639, 87058, 84874, 120730, 103184]\n",
    "\n",
    "print(sorted(salary))\n",
    "print(st.median(salary))"
   ]
  },
  {
   "cell_type": "markdown",
   "metadata": {},
   "source": [
    "### *變異數與標準差*"
   ]
  },
  {
   "cell_type": "code",
   "execution_count": null,
   "metadata": {},
   "outputs": [],
   "source": [
    "data1 = [800, 900, 1000, 1100, 1200]\n",
    "data2 = [500, 750, 1000, 1250, 1500]\n",
    "\n",
    "print(st.mean(data1))\n",
    "print(st.mean(data2))\n",
    "print(st.median(data1))\n",
    "print(st.median(data2))"
   ]
  },
  {
   "cell_type": "code",
   "execution_count": null,
   "metadata": {},
   "outputs": [],
   "source": [
    "print(st.variance(data1))\n",
    "print(st.variance(data2))\n",
    "print(st.stdev(data1))\n",
    "print(st.stdev(data2))"
   ]
  },
  {
   "cell_type": "markdown",
   "metadata": {},
   "source": [
    "### *眾數*"
   ]
  },
  {
   "cell_type": "code",
   "execution_count": null,
   "metadata": {},
   "outputs": [],
   "source": [
    "dice = [6, 5, 1, 1, 5, 5, 3, 6, 2, 5, 4, 5, 3, 4, 5, 2, 4, 1, 3, 6]\n",
    "print(st.mode(dice))"
   ]
  },
  {
   "cell_type": "markdown",
   "metadata": {},
   "source": [
    "## 5-3 Python 字串處理"
   ]
  },
  {
   "cell_type": "markdown",
   "metadata": {},
   "source": [
    "### *字串長度 len()*"
   ]
  },
  {
   "cell_type": "code",
   "execution_count": null,
   "metadata": {},
   "outputs": [],
   "source": [
    "word = 'Supercalifragilisticexpialidocious'\n",
    "print(len(word))"
   ]
  },
  {
   "cell_type": "markdown",
   "metadata": {},
   "source": [
    "### *將其他資料轉為字串 str()*"
   ]
  },
  {
   "cell_type": "code",
   "execution_count": null,
   "metadata": {},
   "outputs": [],
   "source": [
    "x = 0\n",
    "y = 0\n",
    "z = 7\n",
    "\n",
    "print(str(x) + str(y) + str(z))"
   ]
  },
  {
   "cell_type": "markdown",
   "metadata": {},
   "source": [
    "### *字串裡的字元是不是整數？isnumeric()*"
   ]
  },
  {
   "cell_type": "code",
   "execution_count": null,
   "metadata": {},
   "outputs": [],
   "source": [
    "# 需使用者輸入資料的範例\n",
    "\n",
    "print('請輸入一個數字:')\n",
    "n = input()\n",
    "\n",
    "print('你輸入的是數值嗎?', n.isnumeric())"
   ]
  },
  {
   "cell_type": "code",
   "execution_count": null,
   "metadata": {},
   "outputs": [],
   "source": [
    "# 需使用者輸入資料的範例\n",
    "\n",
    "print('請輸入兩個數字:')\n",
    "x = input()\n",
    "y = input()\n",
    "\n",
    "if x.isnumeric() and y.isnumeric():\n",
    "    print('結果:', int(x) + int(y))\n",
    "else:\n",
    "    print('嗶嗶~輸入錯誤!')"
   ]
  },
  {
   "cell_type": "code",
   "execution_count": null,
   "metadata": {},
   "outputs": [],
   "source": [
    "z = '3.14'\n",
    "\n",
    "print(z.replace('.', '').isnumeric())"
   ]
  },
  {
   "cell_type": "markdown",
   "metadata": {},
   "source": [
    "### *尋找字串：in 算符和 find()*"
   ]
  },
  {
   "cell_type": "code",
   "execution_count": null,
   "metadata": {},
   "outputs": [],
   "source": [
    "print('coin' in 'Toss a coin to your Witcher')"
   ]
  },
  {
   "cell_type": "code",
   "execution_count": null,
   "metadata": {},
   "outputs": [],
   "source": [
    "'Toss a coin to your Witcher'.find('coin')"
   ]
  },
  {
   "cell_type": "code",
   "execution_count": null,
   "metadata": {},
   "outputs": [],
   "source": [
    "'Toss a coin to your Witcher'.find('YOUR')"
   ]
  },
  {
   "cell_type": "markdown",
   "metadata": {},
   "source": [
    "### *字串大小寫轉換 upper(), lower(), capitalize()*"
   ]
  },
  {
   "cell_type": "code",
   "execution_count": null,
   "metadata": {},
   "outputs": [],
   "source": [
    "text = 'Toss a coin to your Witcher'\n",
    "\n",
    "print(text.upper())\n",
    "print(text.lower())\n",
    "print(text.capitalize())\n",
    "print(text.title())"
   ]
  },
  {
   "cell_type": "code",
   "execution_count": null,
   "metadata": {},
   "outputs": [],
   "source": [
    "text = text.upper()\n",
    "print(text.find('YOUR'))"
   ]
  },
  {
   "cell_type": "markdown",
   "metadata": {},
   "source": [
    "### *取代字串 replace()*"
   ]
  },
  {
   "cell_type": "code",
   "execution_count": null,
   "metadata": {},
   "outputs": [],
   "source": [
    "text = '無心插柳柳成蔭'\n",
    "text = text.replace('成蔭', '橙汁')\n",
    "\n",
    "print(text)"
   ]
  },
  {
   "cell_type": "code",
   "execution_count": null,
   "metadata": {},
   "outputs": [],
   "source": [
    "poem = '枯藤老樹昏鴉，\\n小橋流水人家，\\n古道西風瘦馬。\\n夕陽西下，\\n斷腸人在天涯。'\n",
    "\n",
    "print(poem)"
   ]
  },
  {
   "cell_type": "code",
   "execution_count": null,
   "metadata": {},
   "outputs": [],
   "source": [
    "poem = poem.replace('\\n', '')\n",
    "\n",
    "print(poem)"
   ]
  },
  {
   "cell_type": "markdown",
   "metadata": {},
   "source": [
    "### *f-string 格式化字串*"
   ]
  },
  {
   "cell_type": "code",
   "execution_count": null,
   "metadata": {},
   "outputs": [],
   "source": [
    "year = 2077\n",
    "month = 10\n",
    "day = 23\n",
    "\n",
    "# 不好的寫法\n",
    "\n",
    "date_str = str(year) + '-' + str(month) + '-' + str(day)\n",
    "print(date_str)"
   ]
  },
  {
   "cell_type": "code",
   "execution_count": null,
   "metadata": {},
   "outputs": [],
   "source": [
    "date_str = f'{year}-{month}-{day}'\n",
    "print(date_str)"
   ]
  },
  {
   "cell_type": "markdown",
   "metadata": {},
   "source": [
    "## 5-4 字串走訪、擷取及與串列的互轉"
   ]
  },
  {
   "cell_type": "markdown",
   "metadata": {},
   "source": [
    "### 字串元素的存取與走訪"
   ]
  },
  {
   "cell_type": "code",
   "execution_count": null,
   "metadata": {},
   "outputs": [],
   "source": [
    "poem = '穩眠夜深處，單床寒衣裳。終不知君名，生還望月悵。'\n",
    "\n",
    "print(poem[0])\n",
    "print(poem[6])\n",
    "print(poem[12])\n",
    "print(poem[18])"
   ]
  },
  {
   "cell_type": "code",
   "execution_count": null,
   "metadata": {},
   "outputs": [],
   "source": [
    "lyrics = 'YMCA'\n",
    "\n",
    "for t in lyrics:\n",
    "    print(t)"
   ]
  },
  {
   "cell_type": "code",
   "execution_count": null,
   "metadata": {},
   "outputs": [],
   "source": [
    "text = 'Cyberpunk'\n",
    "\n",
    "for i in range(len(text)):\n",
    "    print(text[i])"
   ]
  },
  {
   "cell_type": "markdown",
   "metadata": {},
   "source": [
    "### *字串切片*"
   ]
  },
  {
   "cell_type": "code",
   "execution_count": null,
   "metadata": {},
   "outputs": [],
   "source": [
    "text = 'I took an arrow in the knee...'\n",
    "\n",
    "print(text[10:15])"
   ]
  },
  {
   "cell_type": "markdown",
   "metadata": {},
   "source": [
    "### *字串轉串列 — list() 與 split()*"
   ]
  },
  {
   "cell_type": "code",
   "execution_count": null,
   "metadata": {},
   "outputs": [],
   "source": [
    "\n",
    "text = 'Live long and prosper'\n",
    "print(list(text))"
   ]
  },
  {
   "cell_type": "code",
   "execution_count": null,
   "metadata": {},
   "outputs": [],
   "source": [
    "print(text.split(' '))"
   ]
  },
  {
   "cell_type": "code",
   "execution_count": null,
   "metadata": {},
   "outputs": [],
   "source": [
    "data = 'Kirk,Spock,McCoy,Scott,Uhura,Sulu,Chekov'\n",
    "\n",
    "print(data.split(','))"
   ]
  },
  {
   "cell_type": "markdown",
   "metadata": {},
   "source": [
    "### *串列轉字串：join()*"
   ]
  },
  {
   "cell_type": "code",
   "execution_count": null,
   "metadata": {},
   "outputs": [],
   "source": [
    "planets = ['水星', '金星', '地球', '火星', '木星', '土星', '天王星', '海王星']\n",
    "sep = '-<>-'\n",
    "\n",
    "print(sep.join(planets))"
   ]
  }
 ],
 "metadata": {
  "kernelspec": {
   "display_name": "Python 3 (ipykernel)",
   "language": "python",
   "name": "python3"
  },
  "language_info": {
   "codemirror_mode": {
    "name": "ipython",
    "version": 3
   },
   "file_extension": ".py",
   "mimetype": "text/x-python",
   "name": "python",
   "nbconvert_exporter": "python",
   "pygments_lexer": "ipython3",
   "version": "3.9.12"
  }
 },
 "nbformat": 4,
 "nbformat_minor": 4
}
